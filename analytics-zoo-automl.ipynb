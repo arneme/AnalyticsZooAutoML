{
 "cells": [
  {
   "cell_type": "markdown",
   "metadata": {},
   "source": [
    "# Experimenting with Analytics Zoo AutoML experimental features"
   ]
  },
  {
   "cell_type": "markdown",
   "metadata": {},
   "source": [
    "## Overview\n",
    "Analytics Zoo is a unified data analytics and AI platform open sourced by Intel. It is basically a complete environment (including Jupyter Notebook server) for ML. It is put together by bits and pieces already out there and for the AutoML experimental setup they have also connected it to a scalable backend using Ray and Apache Spark. The following image gives an overview of the Analytics Zoo setup for AutoML using a scalable backend based on Tensorflow, Keras, Ray and Apache Spark. The AutoML part is a layer on top of the backend and the individual use cases are in a thin App layer, e.g. TimeSequencePredictor, which is an \"App\" for multivariant input/single variant output time series prediction on top of the underlaying architecture.\n",
    "\n",
    "![Analytics Zoo on Ray](AnalyticZooAutoML-overview.png)"
   ]
  },
  {
   "cell_type": "markdown",
   "metadata": {},
   "source": [
    "## Prepare a Conda environment \n",
    "For the testing I did set up an Ubuntu 18.04 virtual machine with 32 cores and 100GB RAM. When the VM was ready I did install Anaconda first:\n",
    "```\n",
    "# Download Anaconda\n",
    "curl -O https://repo.anaconda.com/archive/Anaconda3-2019.10-Linux-x86_64.sh\n",
    "#Install Anaconda\n",
    "bash Anaconda3-2019.10-Linux-x86_64.sh\n",
    "```\n",
    "I then created an Anaconda environment and populated it with the needed packages:\n",
    "\n",
    "```\n",
    "# Create a Conda environment and activate it\n",
    "conda create -n zoo python=3.6\n",
    "conda activate zoo\n",
    "\n",
    "# Installed all necessary packages with Conda\n",
    "conda install tensorflow\n",
    "conda install -c anaconda scikit-learn\n",
    "conda install -c conda-forge featuretools\n",
    "conda install pandas\n",
    "conda install matplotlib\n",
    "conda install requests\n",
    "conda install aiohttp psutil setproctitle grpcio\n",
    "conda install -c conda-forge tabulate\n",
    "conda install -c conda-forge setproctitle\n",
    "conda install jupyter\n",
    "conda install -c anaconda openjdk=8.0.152\n",
    "\n",
    "# Use pip to install the rest of the packages (that are not supported by conda)\n",
    "pip install pyspark==2.4.3\n",
    "pip install ray==0.8.0\n",
    "pip install tune\n",
    "```\n"
   ]
  },
  {
   "cell_type": "markdown",
   "metadata": {},
   "source": [
    "## Get and compile the AnalyticsZoo AutoML package\n",
    "To get the experimental AnalyticsZoo AutoML package we need to download and compile the source code for the AutoML branch. In order to do that we also need Maven:\n",
    "```\n",
    "sudo apt install maven\n",
    "```\n",
    "\n",
    "```\n",
    "# Clone repo autoML branch\n",
    "git clone --single-branch --branch automl https://github.com/intel-analytics/analytics-zoo.git\n",
    "\n",
    "# Compile the AutoML branch (for linux) with Spark support (all the -D options)\n",
    "bash analytics-zoo/pyzoo/dev/build.sh linux default -Dspark.version=2.4.3 -Dbigdl.artifactId=bigdl-SPARK_2.4 -P spark_2.4+\n",
    "\n",
    "```\n",
    "Install the newly compiled Analytics Zoo package (se above)\n",
    "```\n",
    "pip install analytics-zoo/pyzoo/dist/analytics_zoo-0.6.0.dev0-py2.py3-none-manylinux1_x86_64.whl\n",
    "```"
   ]
  },
  {
   "cell_type": "markdown",
   "metadata": {},
   "source": [
    "## Run the example"
   ]
  },
  {
   "cell_type": "code",
   "execution_count": 1,
   "metadata": {},
   "outputs": [],
   "source": [
    "# plot the predicted values and actual values (for the test data)\n",
    "def plot_result(test_df, pred_df, dt_col=\"datetime\", value_col=\"value\", past_seq_len=1):\n",
    "    # target column of dataframe is \"value\"\n",
    "    # past sequence length is 50\n",
    "    pred_value = pred_df[value_col].values\n",
    "    true_value = test_df[value_col].values[past_seq_len:]\n",
    "    fig, axs = plt.subplots(figsize=(12, 5))\n",
    "\n",
    "    axs.plot(pred_df[dt_col], pred_value, color='red', label='predicted values')\n",
    "    axs.plot(test_df[dt_col][past_seq_len:], true_value, color='blue', label='actual values')\n",
    "    axs.set_title('the predicted values and actual values (for the test data)')\n",
    "\n",
    "    plt.xlabel(dt_col)\n",
    "    plt.xticks(rotation=45)\n",
    "    plt.ylabel('number of taxi passengers')\n",
    "    plt.legend(loc='upper left')\n",
    "    plt.show()"
   ]
  },
  {
   "cell_type": "code",
   "execution_count": 2,
   "metadata": {},
   "outputs": [],
   "source": [
    "# plot results of multi step forecasting\n",
    "# plot at most five values for better view\n",
    "# plot the predicted values and actual values (for the test data)\n",
    "def plot_less_five_step_result(test_df, pred_df, dt_col=\"datetime\", value_col=\"value\", past_seq_len=1):\n",
    "    fig, axs = plt.subplots(figsize=(12, 5))\n",
    "    target_value = test_df[value_col].values[past_seq_len:]\n",
    "    axs.plot(test_df[dt_col][past_seq_len:], target_value, color='blue', label='actual values')\n",
    "\n",
    "    value_cols=[\"{}_{}\".format(value_col, i) for i in range(min(pred_df.shape[1] - 1, 5))]\n",
    "    time_delta = pred_df[dt_col][1] - pred_df[dt_col][0]\n",
    "    plot_color = [\"g\", \"r\", \"c\", \"m\", \"y\"]\n",
    "    for i in range(len(value_cols)):\n",
    "        pred_value = pred_df[value_cols[i]].values\n",
    "        pred_dt = pred_df[dt_col].values + time_delta * i\n",
    "        axs.plot(pred_dt, pred_value, color=plot_color[i], label='predicted values' + str(i))\n",
    "\n",
    "    axs.set_title('the predicted values and actual values (for the test data)')\n",
    "\n",
    "    plt.xlabel(dt_col)\n",
    "    plt.xticks(rotation=45)\n",
    "    plt.ylabel('number of taxi passengers')\n",
    "    plt.legend(loc='upper left')\n",
    "    plt.show()"
   ]
  },
  {
   "cell_type": "code",
   "execution_count": 3,
   "metadata": {},
   "outputs": [],
   "source": [
    "# plot results of multi step forecasting\n",
    "# plot result of multi step forecasting\n",
    "# plot the predicted values and actual values (for the test data)\n",
    "def plot_first_last_step_result(test_df, pred_df, dt_col=\"datetime\", value_col=\"value\", past_seq_len=1):\n",
    "    fig, axs = plt.subplots(figsize=(12, 5))\n",
    "    target_value = test_df[value_col].values[past_seq_len:]\n",
    "    axs.plot(test_df[dt_col][past_seq_len:], target_value, color='blue', label='actual values')\n",
    "\n",
    "    value_cols=[\"{}_{}\".format(value_col, i) for i in range(pred_df.shape[1] - 1)]\n",
    "    time_delta = pred_df[dt_col][1] - pred_df[dt_col][0]\n",
    "  \n",
    "    pred_value_first = pred_df[value_cols[0]].values\n",
    "    pred_dt_first = pred_df[dt_col].values\n",
    "    axs.plot(pred_dt_first, pred_value_first, color=\"g\", label='first predicted values')\n",
    " \n",
    "    pred_value_last = pred_df[value_cols[-1]].values\n",
    "    pred_dt_last = pred_df[dt_col].values + time_delta * (len(value_cols)-1)\n",
    "    axs.plot(pred_dt_last, pred_value_last, color=\"r\", label='last predicted values')\n",
    "\n",
    "    axs.set_title('the predicted values and actual values (for the test data)')\n",
    "\n",
    "    plt.xlabel(dt_col)\n",
    "    plt.xticks(rotation=45)\n",
    "    plt.ylabel('number of taxi passengers')\n",
    "    plt.legend(loc='upper left')\n",
    "    plt.show()"
   ]
  },
  {
   "cell_type": "code",
   "execution_count": 4,
   "metadata": {},
   "outputs": [
    {
     "name": "stdout",
     "output_type": "stream",
     "text": [
      "Populating the interactive namespace from numpy and matplotlib\n"
     ]
    }
   ],
   "source": [
    "import os\n",
    "import pandas as pd\n",
    "import numpy as np\n",
    "\n",
    "import matplotlib\n",
    "matplotlib.use('Agg')\n",
    "%pylab inline\n",
    "import matplotlib.dates as md\n",
    "from matplotlib import pyplot as plt"
   ]
  },
  {
   "cell_type": "code",
   "execution_count": 5,
   "metadata": {},
   "outputs": [],
   "source": [
    "# load nyc taxi data\n",
    "try:\n",
    "    dataset_path = \"nyc_taxi.csv\"\n",
    "    df = pd.read_csv(dataset_path)\n",
    "except Exception as e:\n",
    "    print(\"nyc_taxi.csv doesn't exist\")\n",
    "    print(\"you can run $ANALYTICS_ZOO_HOME/dist/bin/data/NAB/nyc_taxi/get_nyc_taxi.sh to download nyc_taxi.csv\")"
   ]
  },
  {
   "cell_type": "code",
   "execution_count": 6,
   "metadata": {},
   "outputs": [
    {
     "name": "stdout",
     "output_type": "stream",
     "text": [
      "Prepending /home/arneme/anaconda3/envs/zoo/lib/python3.6/site-packages/bigdl/share/conf/spark-bigdl.conf to sys.path\n",
      "Adding /home/arneme/anaconda3/envs/zoo/lib/python3.6/site-packages/zoo/share/lib/analytics-zoo-bigdl_0.9.0-spark_2.4.3-0.6.0-SNAPSHOT-jar-with-dependencies.jar to BIGDL_JARS\n",
      "Prepending /home/arneme/anaconda3/envs/zoo/lib/python3.6/site-packages/zoo/share/conf/spark-analytics-zoo.conf to sys.path\n"
     ]
    }
   ],
   "source": [
    "from zoo.automl.common.util import split_input_df\n",
    "train_df, val_df, test_df = split_input_df(df, val_split_ratio=0.1, test_split_ratio=0.1)"
   ]
  },
  {
   "cell_type": "code",
   "execution_count": 7,
   "metadata": {},
   "outputs": [
    {
     "data": {
      "text/html": [
       "<div>\n",
       "<style scoped>\n",
       "    .dataframe tbody tr th:only-of-type {\n",
       "        vertical-align: middle;\n",
       "    }\n",
       "\n",
       "    .dataframe tbody tr th {\n",
       "        vertical-align: top;\n",
       "    }\n",
       "\n",
       "    .dataframe thead th {\n",
       "        text-align: right;\n",
       "    }\n",
       "</style>\n",
       "<table border=\"1\" class=\"dataframe\">\n",
       "  <thead>\n",
       "    <tr style=\"text-align: right;\">\n",
       "      <th></th>\n",
       "      <th>value</th>\n",
       "    </tr>\n",
       "  </thead>\n",
       "  <tbody>\n",
       "    <tr>\n",
       "      <th>count</th>\n",
       "      <td>8256.000000</td>\n",
       "    </tr>\n",
       "    <tr>\n",
       "      <th>mean</th>\n",
       "      <td>15421.585514</td>\n",
       "    </tr>\n",
       "    <tr>\n",
       "      <th>std</th>\n",
       "      <td>6871.989592</td>\n",
       "    </tr>\n",
       "    <tr>\n",
       "      <th>min</th>\n",
       "      <td>1431.000000</td>\n",
       "    </tr>\n",
       "    <tr>\n",
       "      <th>25%</th>\n",
       "      <td>11040.000000</td>\n",
       "    </tr>\n",
       "    <tr>\n",
       "      <th>50%</th>\n",
       "      <td>17014.500000</td>\n",
       "    </tr>\n",
       "    <tr>\n",
       "      <th>75%</th>\n",
       "      <td>20032.250000</td>\n",
       "    </tr>\n",
       "    <tr>\n",
       "      <th>max</th>\n",
       "      <td>39197.000000</td>\n",
       "    </tr>\n",
       "  </tbody>\n",
       "</table>\n",
       "</div>"
      ],
      "text/plain": [
       "              value\n",
       "count   8256.000000\n",
       "mean   15421.585514\n",
       "std     6871.989592\n",
       "min     1431.000000\n",
       "25%    11040.000000\n",
       "50%    17014.500000\n",
       "75%    20032.250000\n",
       "max    39197.000000"
      ]
     },
     "execution_count": 7,
     "metadata": {},
     "output_type": "execute_result"
    }
   ],
   "source": [
    "train_df.describe()"
   ]
  },
  {
   "cell_type": "code",
   "execution_count": 8,
   "metadata": {},
   "outputs": [
    {
     "data": {
      "text/html": [
       "<div>\n",
       "<style scoped>\n",
       "    .dataframe tbody tr th:only-of-type {\n",
       "        vertical-align: middle;\n",
       "    }\n",
       "\n",
       "    .dataframe tbody tr th {\n",
       "        vertical-align: top;\n",
       "    }\n",
       "\n",
       "    .dataframe thead th {\n",
       "        text-align: right;\n",
       "    }\n",
       "</style>\n",
       "<table border=\"1\" class=\"dataframe\">\n",
       "  <thead>\n",
       "    <tr style=\"text-align: right;\">\n",
       "      <th></th>\n",
       "      <th>datetime</th>\n",
       "      <th>value</th>\n",
       "    </tr>\n",
       "  </thead>\n",
       "  <tbody>\n",
       "    <tr>\n",
       "      <th>0</th>\n",
       "      <td>2014-07-01 00:00:00</td>\n",
       "      <td>10844</td>\n",
       "    </tr>\n",
       "    <tr>\n",
       "      <th>1</th>\n",
       "      <td>2014-07-01 00:30:00</td>\n",
       "      <td>8127</td>\n",
       "    </tr>\n",
       "    <tr>\n",
       "      <th>2</th>\n",
       "      <td>2014-07-01 01:00:00</td>\n",
       "      <td>6210</td>\n",
       "    </tr>\n",
       "    <tr>\n",
       "      <th>3</th>\n",
       "      <td>2014-07-01 01:30:00</td>\n",
       "      <td>4656</td>\n",
       "    </tr>\n",
       "    <tr>\n",
       "      <th>4</th>\n",
       "      <td>2014-07-01 02:00:00</td>\n",
       "      <td>3820</td>\n",
       "    </tr>\n",
       "  </tbody>\n",
       "</table>\n",
       "</div>"
      ],
      "text/plain": [
       "             datetime  value\n",
       "0 2014-07-01 00:00:00  10844\n",
       "1 2014-07-01 00:30:00   8127\n",
       "2 2014-07-01 01:00:00   6210\n",
       "3 2014-07-01 01:30:00   4656\n",
       "4 2014-07-01 02:00:00   3820"
      ]
     },
     "execution_count": 8,
     "metadata": {},
     "output_type": "execute_result"
    }
   ],
   "source": [
    "train_df.head(5)"
   ]
  },
  {
   "cell_type": "code",
   "execution_count": 9,
   "metadata": {},
   "outputs": [
    {
     "name": "stdout",
     "output_type": "stream",
     "text": [
      "The shape of train_df is (8256, 2)\n",
      "The shape of val_df is (1032, 2)\n",
      "The shape of test_df is (1032, 2)\n"
     ]
    }
   ],
   "source": [
    "# shape of the dataframe\n",
    "print(\"The shape of train_df is\", train_df.shape)\n",
    "print(\"The shape of val_df is\", val_df.shape)\n",
    "print(\"The shape of test_df is\", test_df.shape)"
   ]
  },
  {
   "cell_type": "code",
   "execution_count": 10,
   "metadata": {},
   "outputs": [
    {
     "name": "stderr",
     "output_type": "stream",
     "text": [
      "No handles with labels found to put in legend.\n"
     ]
    },
    {
     "data": {
      "image/png": "[encoded data removed]",
      "text/plain": [
       "<Figure size 864x360 with 1 Axes>"
      ]
     },
     "metadata": {
      "needs_background": "light"
     },
     "output_type": "display_data"
    }
   ],
   "source": [
    "# visualisation of anomaly throughout time in train_df\n",
    "from pandas.plotting import register_matplotlib_converters\n",
    "register_matplotlib_converters()\n",
    "\n",
    "fig, ax = plt.subplots(figsize=(12, 5))\n",
    "# pd.plotting.deregister_matplotlib_converters()\n",
    "\n",
    "ax.plot(train_df['datetime'], train_df['value'], color='blue', linewidth=0.6)\n",
    "ax.set_title('NYC taxi passengers throughout time')\n",
    "\n",
    "plt.xlabel('datetime')\n",
    "plt.xticks(rotation=45) \n",
    "plt.ylabel('The Number of NYC taxi passengers')\n",
    "plt.legend(loc='upper left')\n",
    "plt.show()"
   ]
  },
  {
   "cell_type": "code",
   "execution_count": 11,
   "metadata": {},
   "outputs": [],
   "source": [
    "# build time sequence predictor\n",
    "from zoo.automl.regression.time_sequence_predictor import *\n",
    "\n",
    "# you need to specify the name of datetime column and target column\n",
    "# The default names are \"datetime\" and \"value\" respectively.\n",
    "tsp = TimeSequencePredictor(dt_col=\"datetime\",\n",
    "                            target_col=\"value\",\n",
    "                            extra_features_col=None)"
   ]
  },
  {
   "cell_type": "code",
   "execution_count": 12,
   "metadata": {},
   "outputs": [
    {
     "name": "stdout",
     "output_type": "stream",
     "text": [
      "Current pyspark location is : /home/arneme/anaconda3/envs/zoo/lib/python3.6/site-packages/pyspark/__init__.py\n",
      "Start to getOrCreate SparkContext\n",
      "Successfully got a SparkContext\n",
      "Start to launch the JVM guarding process\n",
      "JVM guarding process has been successfully launched\n"
     ]
    }
   ],
   "source": [
    "from zoo.ray.util.raycontext import RayContext\n",
    "from zoo import init_spark_on_local\n",
    "\n",
    "sc = init_spark_on_local(cores=4)\n",
    "ray_ctx = RayContext(sc=sc)"
   ]
  },
  {
   "cell_type": "code",
   "execution_count": 13,
   "metadata": {},
   "outputs": [
    {
     "name": "stdout",
     "output_type": "stream",
     "text": [
      "Start to launch ray on cluster\n",
      "Start to launch ray on local\n"
     ]
    }
   ],
   "source": [
    "ray_ctx.init()"
   ]
  },
  {
   "cell_type": "code",
   "execution_count": 14,
   "metadata": {},
   "outputs": [
    {
     "data": {
      "text/html": [
       "== Status ==<br>Memory usage on this node: 3.1/94.4 GiB<br>Using FIFO scheduling algorithm.<br>Resources requested: 0/4 CPUs, 0/0 GPUs, 0.0/114.36 GiB heap, 0.0/25.98 GiB objects (0/1.0 trainer, 0/1.0 ps)<br>Result logdir: /home/arneme/ray_results/automl<br>Number of trials: 1 (1 TERMINATED)<br><table>\n",
       "<thead>\n",
       "<tr><th>Trial name         </th><th>status    </th><th>loc  </th><th style=\"text-align: right;\">  batch_size</th><th>selected_features  </th><th style=\"text-align: right;\">  dropout_1</th><th style=\"text-align: right;\">  dropout</th><th style=\"text-align: right;\">        lr</th><th>model  </th><th style=\"text-align: right;\">  past_seq_len</th><th style=\"text-align: right;\">  lstm_2_units</th><th style=\"text-align: right;\">  lstm_1_units</th><th style=\"text-align: right;\">  dropout_2</th><th style=\"text-align: right;\">  latent_dim</th><th style=\"text-align: right;\">  iter</th><th style=\"text-align: right;\">  total time (s)</th></tr>\n",
       "</thead>\n",
       "<tbody>\n",
       "<tr><td>train_func_efce429c</td><td>TERMINATED</td><td>     </td><td style=\"text-align: right;\">        1024</td><td>['HOUR(datetime)' 'IS_AWAKE(datetime)' 'IS_WEEKEND(datetime)'\n",
       " 'MONTH(datetime)']                    </td><td style=\"text-align: right;\">   0.407214</td><td style=\"text-align: right;\"> 0.365972</td><td style=\"text-align: right;\">0.00603901</td><td>LSTM   </td><td style=\"text-align: right;\">             2</td><td style=\"text-align: right;\">             8</td><td style=\"text-align: right;\">            32</td><td style=\"text-align: right;\">   0.459154</td><td style=\"text-align: right;\">          64</td><td style=\"text-align: right;\">     6</td><td style=\"text-align: right;\">         12.6984</td></tr>\n",
       "</tbody>\n",
       "</table><br><br>"
      ],
      "text/plain": [
       "<IPython.core.display.HTML object>"
      ]
     },
     "metadata": {},
     "output_type": "display_data"
    },
    {
     "name": "stderr",
     "output_type": "stream",
     "text": [
      "2020-02-27 13:56:36,686\tINFO tune.py:334 -- Returning an analysis object by default. You can call `analysis.trials` to retrieve a list of trials. This message will be removed in future versions of Tune.\n"
     ]
    },
    {
     "ename": "TypeError",
     "evalue": "'ExperimentAnalysis' object is not iterable",
     "output_type": "error",
     "traceback": [
      "\u001b[0;31m---------------------------------------------------------------------------\u001b[0m",
      "\u001b[0;31mTypeError\u001b[0m                                 Traceback (most recent call last)",
      "\u001b[0;32m<timed exec>\u001b[0m in \u001b[0;36m<module>\u001b[0;34m\u001b[0m\n",
      "\u001b[0;32m~/anaconda3/envs/zoo/lib/python3.6/site-packages/zoo/automl/regression/time_sequence_predictor.py\u001b[0m in \u001b[0;36mfit\u001b[0;34m(self, input_df, validation_df, metric, recipe, mc, resources_per_trial, distributed, hdfs_url)\u001b[0m\n\u001b[1;32m    391\u001b[0m                                         \u001b[0mmc\u001b[0m\u001b[0;34m=\u001b[0m\u001b[0mmc\u001b[0m\u001b[0;34m,\u001b[0m\u001b[0;34m\u001b[0m\u001b[0;34m\u001b[0m\u001b[0m\n\u001b[1;32m    392\u001b[0m                                         \u001b[0mresources_per_trial\u001b[0m\u001b[0;34m=\u001b[0m\u001b[0mresources_per_trial\u001b[0m\u001b[0;34m,\u001b[0m\u001b[0;34m\u001b[0m\u001b[0;34m\u001b[0m\u001b[0m\n\u001b[0;32m--> 393\u001b[0;31m                                         remote_dir=remote_dir)\n\u001b[0m\u001b[1;32m    394\u001b[0m         \u001b[0;32mreturn\u001b[0m \u001b[0mself\u001b[0m\u001b[0;34m.\u001b[0m\u001b[0mpipeline\u001b[0m\u001b[0;34m\u001b[0m\u001b[0;34m\u001b[0m\u001b[0m\n\u001b[1;32m    395\u001b[0m \u001b[0;34m\u001b[0m\u001b[0m\n",
      "\u001b[0;32m~/anaconda3/envs/zoo/lib/python3.6/site-packages/zoo/automl/regression/time_sequence_predictor.py\u001b[0m in \u001b[0;36m_hp_search\u001b[0;34m(self, input_df, validation_df, metric, recipe, mc, resources_per_trial, remote_dir)\u001b[0m\n\u001b[1;32m    521\u001b[0m         \u001b[0msearcher\u001b[0m\u001b[0;34m.\u001b[0m\u001b[0mrun\u001b[0m\u001b[0;34m(\u001b[0m\u001b[0;34m)\u001b[0m\u001b[0;34m\u001b[0m\u001b[0;34m\u001b[0m\u001b[0m\n\u001b[1;32m    522\u001b[0m \u001b[0;34m\u001b[0m\u001b[0m\n\u001b[0;32m--> 523\u001b[0;31m         \u001b[0mbest\u001b[0m \u001b[0;34m=\u001b[0m \u001b[0msearcher\u001b[0m\u001b[0;34m.\u001b[0m\u001b[0mget_best_trials\u001b[0m\u001b[0;34m(\u001b[0m\u001b[0mk\u001b[0m\u001b[0;34m=\u001b[0m\u001b[0;36m1\u001b[0m\u001b[0;34m)\u001b[0m\u001b[0;34m[\u001b[0m\u001b[0;36m0\u001b[0m\u001b[0;34m]\u001b[0m  \u001b[0;31m# get the best one trial, later could be n\u001b[0m\u001b[0;34m\u001b[0m\u001b[0;34m\u001b[0m\u001b[0m\n\u001b[0m\u001b[1;32m    524\u001b[0m         pipeline = self._make_pipeline(best,\n\u001b[1;32m    525\u001b[0m                                        \u001b[0mfeature_transformers\u001b[0m\u001b[0;34m=\u001b[0m\u001b[0mft\u001b[0m\u001b[0;34m,\u001b[0m\u001b[0;34m\u001b[0m\u001b[0;34m\u001b[0m\u001b[0m\n",
      "\u001b[0;32m~/anaconda3/envs/zoo/lib/python3.6/site-packages/zoo/automl/search/RayTuneSearchEngine.py\u001b[0m in \u001b[0;36mget_best_trials\u001b[0;34m(self, k)\u001b[0m\n\u001b[1;32m    199\u001b[0m \u001b[0;34m\u001b[0m\u001b[0m\n\u001b[1;32m    200\u001b[0m     \u001b[0;32mdef\u001b[0m \u001b[0mget_best_trials\u001b[0m\u001b[0;34m(\u001b[0m\u001b[0mself\u001b[0m\u001b[0;34m,\u001b[0m \u001b[0mk\u001b[0m\u001b[0;34m=\u001b[0m\u001b[0;36m1\u001b[0m\u001b[0;34m)\u001b[0m\u001b[0;34m:\u001b[0m\u001b[0;34m\u001b[0m\u001b[0;34m\u001b[0m\u001b[0m\n\u001b[0;32m--> 201\u001b[0;31m         \u001b[0msorted_trials\u001b[0m \u001b[0;34m=\u001b[0m \u001b[0mRayTuneSearchEngine\u001b[0m\u001b[0;34m.\u001b[0m\u001b[0m_get_sorted_trials\u001b[0m\u001b[0;34m(\u001b[0m\u001b[0mself\u001b[0m\u001b[0;34m.\u001b[0m\u001b[0mtrials\u001b[0m\u001b[0;34m,\u001b[0m \u001b[0mmetric\u001b[0m\u001b[0;34m=\u001b[0m\u001b[0;34m\"reward_metric\"\u001b[0m\u001b[0;34m)\u001b[0m\u001b[0;34m\u001b[0m\u001b[0;34m\u001b[0m\u001b[0m\n\u001b[0m\u001b[1;32m    202\u001b[0m         \u001b[0mbest_trials\u001b[0m \u001b[0;34m=\u001b[0m \u001b[0msorted_trials\u001b[0m\u001b[0;34m[\u001b[0m\u001b[0;34m:\u001b[0m\u001b[0mk\u001b[0m\u001b[0;34m]\u001b[0m\u001b[0;34m\u001b[0m\u001b[0;34m\u001b[0m\u001b[0m\n\u001b[1;32m    203\u001b[0m         \u001b[0;32mreturn\u001b[0m \u001b[0;34m[\u001b[0m\u001b[0mself\u001b[0m\u001b[0;34m.\u001b[0m\u001b[0m_make_trial_output\u001b[0m\u001b[0;34m(\u001b[0m\u001b[0mt\u001b[0m\u001b[0;34m)\u001b[0m \u001b[0;32mfor\u001b[0m \u001b[0mt\u001b[0m \u001b[0;32min\u001b[0m \u001b[0mbest_trials\u001b[0m\u001b[0;34m]\u001b[0m\u001b[0;34m\u001b[0m\u001b[0;34m\u001b[0m\u001b[0m\n",
      "\u001b[0;32m~/anaconda3/envs/zoo/lib/python3.6/site-packages/zoo/automl/search/RayTuneSearchEngine.py\u001b[0m in \u001b[0;36m_get_sorted_trials\u001b[0;34m(trial_list, metric)\u001b[0m\n\u001b[1;32m    217\u001b[0m             \u001b[0mtrial_list\u001b[0m\u001b[0;34m,\u001b[0m\u001b[0;34m\u001b[0m\u001b[0;34m\u001b[0m\u001b[0m\n\u001b[1;32m    218\u001b[0m             \u001b[0mkey\u001b[0m\u001b[0;34m=\u001b[0m\u001b[0;32mlambda\u001b[0m \u001b[0mtrial\u001b[0m\u001b[0;34m:\u001b[0m \u001b[0mtrial\u001b[0m\u001b[0;34m.\u001b[0m\u001b[0mlast_result\u001b[0m\u001b[0;34m.\u001b[0m\u001b[0mget\u001b[0m\u001b[0;34m(\u001b[0m\u001b[0mmetric\u001b[0m\u001b[0;34m,\u001b[0m \u001b[0;36m0\u001b[0m\u001b[0;34m)\u001b[0m\u001b[0;34m,\u001b[0m\u001b[0;34m\u001b[0m\u001b[0;34m\u001b[0m\u001b[0m\n\u001b[0;32m--> 219\u001b[0;31m             reverse=True)\n\u001b[0m\u001b[1;32m    220\u001b[0m \u001b[0;34m\u001b[0m\u001b[0m\n\u001b[1;32m    221\u001b[0m     \u001b[0;34m@\u001b[0m\u001b[0mstaticmethod\u001b[0m\u001b[0;34m\u001b[0m\u001b[0;34m\u001b[0m\u001b[0m\n",
      "\u001b[0;31mTypeError\u001b[0m: 'ExperimentAnalysis' object is not iterable"
     ]
    }
   ],
   "source": [
    "%%time\n",
    "# fit train_df and validate with val_df, return the best trial as pipeline.\n",
    "# the default recipe is SmokeRecipe,which runs one epoch and one iteration with only 1 random sample.\n",
    "# you can change recipe by define `recipe` in `fit`. The recipes you can choose are SmokeRecipe, RandomRecipe, GridRandomRecipe and BayesRecipe.\n",
    "pipeline = tsp.fit(train_df,\n",
    "                   validation_df=val_df,\n",
    "                   metric=\"mse\",\n",
    "                   recipe=RandomRecipe(look_back=(2, 4)))\n",
    "print(\"Training completed.\")"
   ]
  },
  {
   "cell_type": "markdown",
   "metadata": {},
   "source": [
    "# There still seems to be some problems....\n",
    "The list of installed packages in the Conda environment can be found in the conda-list.txt file in the github repo (result of conda list).\n",
    "\n"
   ]
  },
  {
   "cell_type": "code",
   "execution_count": null,
   "metadata": {},
   "outputs": [],
   "source": []
  }
 ],
 "metadata": {
  "kernelspec": {
   "display_name": "Python 3",
   "language": "python",
   "name": "python3"
  },
  "language_info": {
   "codemirror_mode": {
    "name": "ipython",
    "version": 3
   },
   "file_extension": ".py",
   "mimetype": "text/x-python",
   "name": "python",
   "nbconvert_exporter": "python",
   "pygments_lexer": "ipython3",
   "version": "3.7.4"
  }
 },
 "nbformat": 4,
 "nbformat_minor": 4
}
